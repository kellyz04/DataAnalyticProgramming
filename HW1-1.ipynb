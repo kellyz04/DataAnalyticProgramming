{
 "cells": [
  {
   "cell_type": "markdown",
   "metadata": {},
   "source": [
    "This is a popular game (see here), and you must create a computer player.\n",
    "Game setup. Each game round consists two turns, the \f",
    "rst by the com-\n",
    "puter and the second by a human. The computer continues playing rounds\n",
    "until the human chooses to quit.\n",
    "\u000f The computer chooses one of Rock, Paper, and Scissors, but keeps its\n",
    "choice secret.\n",
    "\u000f The computer asks for the human's input.\n",
    "\u000f The human chooses one of Rock, Paper, and Scissors, or Quit.\n",
    "\u000f Unless the human quits, the computer \f",
    "gures out the result of the\n",
    "game, as follows:\n",
    "{ Rock smashes Scissors, so Rock beats Scissors.\n",
    "{ Scissors can cut up paper, so Scissors beat Paper.\n",
    "{ Paper covers Rock, so Paper beats Rock.\n",
    "If both players chose the same, it is a draw. The computer reports the\n",
    "result of this round.\n",
    "1\n",
    "\u000f If the human chooses to quit, the computer reports:\n",
    "{ the number of games played, and\n",
    "{ the number of times the human won.\n",
    "Computer's brains. The computer must be able to exploit some human\n",
    "biases. If the human has played Rock most often, the computer should\n",
    "assume that he or she will play Rock in the next round, so the computer\n",
    "should play Paper. If the human has played Rock and Paper equally often,\n",
    "and Scissors less often, the computer should assume that the human is going\n",
    "to play either Rock or Paper (both equally likely) in the next round. (What\n",
    "should the computer play?)\n",
    "Hence, your program should remember how many Rock, Paper,\n",
    "or Scissors were played by the human. Note that we don't need to\n",
    "remember the order in which the human chooses these; the total counts so\n",
    "far for each choice will be enough."
   ]
  },
  {
   "cell_type": "code",
   "execution_count": null,
   "metadata": {},
   "outputs": [],
   "source": []
  },
  {
   "cell_type": "code",
   "execution_count": null,
   "metadata": {},
   "outputs": [],
   "source": []
  },
  {
   "cell_type": "code",
   "execution_count": null,
   "metadata": {},
   "outputs": [],
   "source": [
    "full_quote = []\n",
    "file1 = open('quote.txt','r')\n",
    "line = file1.readline()\n",
    "print full_quote\n",
    "full_quote"
   ]
  },
  {
   "cell_type": "code",
   "execution_count": null,
   "metadata": {},
   "outputs": [],
   "source": []
  },
  {
   "cell_type": "code",
   "execution_count": null,
   "metadata": {},
   "outputs": [],
   "source": []
  }
 ],
 "metadata": {
  "kernelspec": {
   "display_name": "Python 2",
   "language": "python",
   "name": "python2"
  },
  "language_info": {
   "codemirror_mode": {
    "name": "ipython",
    "version": 2
   },
   "file_extension": ".py",
   "mimetype": "text/x-python",
   "name": "python",
   "nbconvert_exporter": "python",
   "pygments_lexer": "ipython2",
   "version": "2.7.16"
  }
 },
 "nbformat": 4,
 "nbformat_minor": 2
}
